{
  "nbformat": 4,
  "nbformat_minor": 0,
  "metadata": {
    "colab": {
      "provenance": [],
      "toc_visible": true,
      "authorship_tag": "ABX9TyOonN9y/0SKfXVPNI5Li9/t",
      "include_colab_link": true
    },
    "kernelspec": {
      "name": "python3",
      "display_name": "Python 3"
    },
    "language_info": {
      "name": "python"
    }
  },
  "cells": [
    {
      "cell_type": "markdown",
      "metadata": {
        "id": "view-in-github",
        "colab_type": "text"
      },
      "source": [
        "<a href=\"https://colab.research.google.com/github/seanwu1968/CathyInterview/blob/main/cathy_interview_program_test.ipynb\" target=\"_parent\"><img src=\"https://colab.research.google.com/assets/colab-badge.svg\" alt=\"Open In Colab\"/></a>"
      ]
    },
    {
      "cell_type": "code",
      "source": [
        "inputScore = [35,46,57,91,29]\n",
        "\n",
        "def reverseScore(scoreList):\n",
        "  correctScoreList = []\n",
        "  for i in range(0,len(scoreList)):           #透過迴圈將 list 中資料逐一讀取並反轉\n",
        "    correctData = int(str(scoreList[i])[::-1])\n",
        "    correctScoreList.append(correctData)         #將反轉後資料放入另外一個 list 中\n",
        "\n",
        "  return correctScoreList\n",
        "\n",
        "\n",
        "print(reverseScore(inputScore))                #印出結果\n"
      ],
      "metadata": {
        "colab": {
          "base_uri": "https://localhost:8080/"
        },
        "id": "tRC14ckZtUrd",
        "outputId": "c59bcb3e-24bb-49b7-d773-862431ccece9"
      },
      "execution_count": null,
      "outputs": [
        {
          "output_type": "stream",
          "name": "stdout",
          "text": [
            "[53, 64, 75, 19, 92]\n"
          ]
        }
      ]
    },
    {
      "cell_type": "code",
      "source": [
        "textContent = 'Hello welcome to Cathay 60th year anniversary' #查詢用字串\n",
        "checkChar = ['0','6','A','B','C','D','E','F','G','H','I','J','K','L','M','N','O','P','Q','R','S','T','U','V','W','X','Y','Z'] #檢驗字元\n",
        "\n",
        "textContent = textContent.upper()     #不區分大小寫，故全轉為大寫字元\n",
        "for i in range(0,len(checkChar)):     #透過迴圈逐一取得每個檢驗字元的數量\n",
        "  inProcess = str(checkChar[i])\n",
        "  if textContent.count(inProcess) > 0:  #以[字元 數量]方式印出結果(僅印數量大於0)\n",
        "    print(inProcess,end=' ')\n",
        "    print(textContent.count(inProcess))\n",
        "\n",
        "\n"
      ],
      "metadata": {
        "colab": {
          "base_uri": "https://localhost:8080/"
        },
        "id": "Ic6GgUaA4XCd",
        "outputId": "fc933322-56b8-4718-a815-fffa5faa3946"
      },
      "execution_count": null,
      "outputs": [
        {
          "output_type": "stream",
          "name": "stdout",
          "text": [
            "0 1\n",
            "6 1\n",
            "A 5\n",
            "C 2\n",
            "E 5\n",
            "H 3\n",
            "I 1\n",
            "L 3\n",
            "M 1\n",
            "N 2\n",
            "O 3\n",
            "R 3\n",
            "S 1\n",
            "T 3\n",
            "V 1\n",
            "W 1\n",
            "Y 3\n"
          ]
        }
      ]
    },
    {
      "cell_type": "code",
      "source": [
        "colleageNum = int(input('請輸入同事報數數值 1 - 100: '))\n",
        "\n",
        "#凡報數3的退出圈子，因此:\n",
        "#將報數的數目除以3，若餘數為0則是退出的同事，不列入順位\n",
        "#若有餘數，順位就是除3之後的商數*2再加上餘數的值\n",
        "\n",
        "quotient = colleageNum // 3\n",
        "reminder = colleageNum % 3\n",
        "\n",
        "if reminder == 0:\n",
        "  lastIndex = 0 #quotient * 2\n",
        "else:\n",
        "  lastIndex = quotient * 2 + reminder\n",
        "\n",
        "if lastIndex != 0:\n",
        "  print('報數 %d 號的同事，為第 %d 順位。' % (colleageNum, lastIndex))\n",
        "else:\n",
        "  print('報數 %d 號的同事，不列入順位。' % colleageNum)\n"
      ],
      "metadata": {
        "colab": {
          "base_uri": "https://localhost:8080/"
        },
        "id": "q5KBLjuB4ZTi",
        "outputId": "a8b63ad3-1c69-4f90-eb9e-f28aa1e72435"
      },
      "execution_count": null,
      "outputs": [
        {
          "output_type": "stream",
          "name": "stdout",
          "text": [
            "請輸入同事報數數值 1 - 100: 3\n",
            "報數 3 號的同事，不列入順位。\n"
          ]
        }
      ]
    }
  ]
}