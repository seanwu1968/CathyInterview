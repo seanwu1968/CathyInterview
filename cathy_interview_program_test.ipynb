{
  "nbformat": 4,
  "nbformat_minor": 0,
  "metadata": {
    "colab": {
      "provenance": [],
      "authorship_tag": "ABX9TyP637Jo5n7B+TKPc+Y1F1oA",
      "include_colab_link": true
    },
    "kernelspec": {
      "name": "python3",
      "display_name": "Python 3"
    },
    "language_info": {
      "name": "python"
    }
  },
  "cells": [
    {
      "cell_type": "markdown",
      "metadata": {
        "id": "view-in-github",
        "colab_type": "text"
      },
      "source": [
        "<a href=\"https://colab.research.google.com/github/seanwu1968/CathyInterview/blob/main/cathy_interview_program_test.ipynb\" target=\"_parent\"><img src=\"https://colab.research.google.com/assets/colab-badge.svg\" alt=\"Open In Colab\"/></a>"
      ]
    },
    {
      "cell_type": "markdown",
      "source": [
        "# 新增區段"
      ],
      "metadata": {
        "id": "xxnrf8jjyKmo"
      }
    },
    {
      "cell_type": "code",
      "source": [
        "inputScore = [35,46,57,91,29]\n",
        "\n",
        "def reverseScore(scoreList):\n",
        "  correctScoreList = []\n",
        "  for i in range(0,len(scoreList)):           #透過迴圈將 list 中資料逐一讀取並反轉\n",
        "    correctData = int(str(scoreList[i])[::-1])\n",
        "    correctScoreList.append(correctData)         #將反轉後資料放入另外一個 list 中\n",
        "\n",
        "  return correctScoreList\n",
        "\n",
        "\n",
        "print(reverseScore(inputScore))                #印出結果\n"
      ],
      "metadata": {
        "colab": {
          "base_uri": "https://localhost:8080/"
        },
        "id": "tRC14ckZtUrd",
        "outputId": "c59bcb3e-24bb-49b7-d773-862431ccece9"
      },
      "execution_count": null,
      "outputs": [
        {
          "output_type": "stream",
          "name": "stdout",
          "text": [
            "[53, 64, 75, 19, 92]\n"
          ]
        }
      ]
    },
    {
      "cell_type": "code",
      "source": [
        "textContent = 'Hello welcome to Cathay 60th year anniversary' #查詢用字串\n",
        "checkChar = ['0','6','A','B','C','D','E','F','G','H','I','J','K','L','M','N','O','P','Q','R','S','T','U','V','W','X','Y','Z'] #檢驗字元\n",
        "\n",
        "textContent = textContent.upper()     #不區分大小寫，故全轉為大寫字元\n",
        "for i in range(0,len(checkChar)):     #透過迴圈逐一取得每個檢驗字元的數量\n",
        "  inProcess = str(checkChar[i])\n",
        "  if textContent.count(inProcess) > 0:  #以[字元 數量]方式印出結果(僅印數量大於0)\n",
        "    print(inProcess,end=' ')\n",
        "    print(textContent.count(inProcess))\n",
        "\n",
        "\n"
      ],
      "metadata": {
        "colab": {
          "base_uri": "https://localhost:8080/"
        },
        "id": "Ic6GgUaA4XCd",
        "outputId": "fc933322-56b8-4718-a815-fffa5faa3946"
      },
      "execution_count": null,
      "outputs": [
        {
          "output_type": "stream",
          "name": "stdout",
          "text": [
            "0 1\n",
            "6 1\n",
            "A 5\n",
            "C 2\n",
            "E 5\n",
            "H 3\n",
            "I 1\n",
            "L 3\n",
            "M 1\n",
            "N 2\n",
            "O 3\n",
            "R 3\n",
            "S 1\n",
            "T 3\n",
            "V 1\n",
            "W 1\n",
            "Y 3\n"
          ]
        }
      ]
    },
    {
      "cell_type": "code",
      "source": [
        "n = int(input('請輸入參加同事人數: '))\n",
        "\n",
        "#凡報數3的退出圈子，因此:\n",
        "#將人數除以3，若餘數為0則前一位是最後留下的同事，也就是除3之後的商數*2\n",
        "#若有餘數，則需要再加上餘數的值\n",
        "\n",
        "quotient = divmod(n,3)[0]\n",
        "reminder = divmod(n,3)[1]\n",
        "\n",
        "if reminder == 0:\n",
        "  lastIndex = quotient * 2\n",
        "else:\n",
        "  lastIndex = quotient * 2 + reminder\n",
        "\n",
        "print('最後留下的同事為第 %d 順位。' % lastIndex)"
      ],
      "metadata": {
        "colab": {
          "base_uri": "https://localhost:8080/"
        },
        "id": "q5KBLjuB4ZTi",
        "outputId": "3ee5cfeb-3c0b-4940-89d0-a39b9050c980"
      },
      "execution_count": null,
      "outputs": [
        {
          "output_type": "stream",
          "name": "stdout",
          "text": [
            "請輸入參加同事人數: 99\n",
            "最後留下的同事為第 66 順位。\n"
          ]
        }
      ]
    }
  ]
}